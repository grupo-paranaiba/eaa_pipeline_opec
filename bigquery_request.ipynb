{
 "cells": [
  {
   "cell_type": "code",
   "execution_count": null,
   "id": "214e1eb9",
   "metadata": {},
   "outputs": [],
   "source": [
    "from google.cloud import bigquery\n",
    "import pandas as pd\n",
    "import requests\n",
    "from io import StringIO"
   ]
  },
  {
   "cell_type": "code",
   "execution_count": 34,
   "id": "f6112e0c",
   "metadata": {},
   "outputs": [
    {
     "name": "stdout",
     "output_type": "stream",
     "text": [
      "Erro na requisição: [Errno 2] No such file or directory: 'Cliente.csv'\n",
      "None\n"
     ]
    }
   ],
   "source": [
    "def extract():\n",
    "    try:\n",
    "        df = pd.read_csv(\"Cliente.csv\")\n",
    "        return df\n",
    "        \n",
    "\n",
    "    except FileNotFoundError as e:\n",
    "        print(f\"Erro na requisição: {e}\")\n",
    "        return None\n",
    "    \n",
    "print(extract())"
   ]
  },
  {
   "cell_type": "code",
   "execution_count": null,
   "id": "a1287618",
   "metadata": {},
   "outputs": [
    {
     "ename": "NameError",
     "evalue": "name 'df' is not defined",
     "output_type": "error",
     "traceback": [
      "\u001b[1;31m---------------------------------------------------------------------------\u001b[0m",
      "\u001b[1;31mNameError\u001b[0m                                 Traceback (most recent call last)",
      "Cell \u001b[1;32mIn[25], line 18\u001b[0m\n\u001b[0;32m     15\u001b[0m     \u001b[38;5;28;01mexcept\u001b[39;00m \u001b[38;5;167;01mException\u001b[39;00m:\n\u001b[0;32m     16\u001b[0m         \u001b[38;5;28mprint\u001b[39m(\u001b[38;5;124mf\u001b[39m\u001b[38;5;124m\"\u001b[39m\u001b[38;5;124mErro ao carregar dados no Bigquery: \u001b[39m\u001b[38;5;132;01m{\u001b[39;00m\u001b[38;5;167;01mException\u001b[39;00m\u001b[38;5;132;01m}\u001b[39;00m\u001b[38;5;124m\"\u001b[39m)   \n\u001b[1;32m---> 18\u001b[0m \u001b[38;5;28mprint\u001b[39m(loadBigquery())\n",
      "Cell \u001b[1;32mIn[25], line 3\u001b[0m, in \u001b[0;36mloadBigquery\u001b[1;34m()\u001b[0m\n\u001b[0;32m      1\u001b[0m \u001b[38;5;28;01mdef\u001b[39;00m\u001b[38;5;250m \u001b[39m\u001b[38;5;21mloadBigquery\u001b[39m():\n\u001b[1;32m----> 3\u001b[0m     \u001b[38;5;28;01mif\u001b[39;00m df \u001b[38;5;129;01mis\u001b[39;00m \u001b[38;5;28;01mNone\u001b[39;00m:\n\u001b[0;32m      4\u001b[0m         \u001b[38;5;28;01mreturn\u001b[39;00m \u001b[38;5;124m\"\u001b[39m\u001b[38;5;124mSem dados carregados\u001b[39m\u001b[38;5;124m\"\u001b[39m\n\u001b[0;32m      6\u001b[0m     \u001b[38;5;28;01mtry\u001b[39;00m:\n",
      "\u001b[1;31mNameError\u001b[0m: name 'df' is not defined"
     ]
    }
   ],
   "source": [
    "def loadBigquery():\n",
    "\n",
    "    if df is None:\n",
    "        return \"Sem dados carregados\"\n",
    "    \n",
    "    try:\n",
    "        credencial = r\"C:\\Users\\dcamargos\\Desktop\\grupoparanaiba\\activity\\databaseparanaiba-0c3e37e94359.json\"\n",
    "        client = bigquery.Client.from_service_account_json(credencial)\n",
    "        query = \"\"\"\n",
    "        SELECT * FROM `databaseparanaiba.adsim_dataset.users`\n",
    "        \"\"\"\n",
    "        resultado = client.query(query)\n",
    "        for row in resultado:\n",
    "            print(row)\n",
    "    except Exception:\n",
    "        print(f\"Erro ao carregar dados no Bigquery: {Exception}\")   \n",
    "\n",
    "print(loadBigquery())\n"
   ]
  },
  {
   "cell_type": "code",
   "execution_count": null,
   "id": "2c2a3173",
   "metadata": {},
   "outputs": [],
   "source": []
  }
 ],
 "metadata": {
  "kernelspec": {
   "display_name": "base",
   "language": "python",
   "name": "python3"
  },
  "language_info": {
   "codemirror_mode": {
    "name": "ipython",
    "version": 3
   },
   "file_extension": ".py",
   "mimetype": "text/x-python",
   "name": "python",
   "nbconvert_exporter": "python",
   "pygments_lexer": "ipython3",
   "version": "3.13.5"
  }
 },
 "nbformat": 4,
 "nbformat_minor": 5
}
